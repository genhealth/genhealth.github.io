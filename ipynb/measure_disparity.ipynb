{
 "cells": [
  {
   "cell_type": "code",
   "execution_count": 1,
   "metadata": {},
   "outputs": [],
   "source": [
    "import pandas as pd"
   ]
  },
  {
   "attachments": {},
   "cell_type": "markdown",
   "metadata": {},
   "source": [
    "### sets up static data for different biased model tests"
   ]
  },
  {
   "cell_type": "code",
   "execution_count": null,
   "metadata": {
    "collapsed": false
   },
   "outputs": [],
   "source": [
    "COLUMNS = [\n",
    "    'Model Prediction', \n",
    "    'Binary Outcome', \n",
    "    'Model Label', \n",
    "    'Sample Weight', # we ignore this because determining bias on weights may be misconstrued with actual health predispositions \n",
    "    'Demo Gender',\n",
    "    'Demo Ethnicity'\n",
    "]\n",
    "GENDER = ['male', 'female']\n",
    "ETHNICITY = ['white', 'hispanic', 'black', 'asian', 'other']\n",
    "ETHNICITY_DIST = [50, 20, 20, 9, 1]\n",
    "# makes ethnicity array with ETHNICITY for each number in ETHNICITY_DIST\n",
    "ETHNICITY_ARRAY = [ethnicity for ethnicity, count in zip(ETHNICITY, ETHNICITY_DIST) for i in range(count)]\n",
    "\n",
    "LABELS = ['Label-' + str(i) for i in range (0,100)]\n",
    "total_combinations = len(LABELS) * len(GENDER) * len(ETHNICITY_ARRAY)\n",
    "\n",
    "# makes combinations of GENDER, ETHNICITY, and LABELS\n",
    "def makeCombinations():\n",
    "    combinations = []\n",
    "    for ethnicity in ETHNICITY_ARRAY:\n",
    "        for label in LABELS:\n",
    "            for gender in GENDER:\n",
    "                sample_weight = 1\n",
    "                combinations.append([label, sample_weight, gender, ethnicity])\n",
    "    return combinations\n",
    "\n",
    "combinations_array = makeCombinations()\n",
    "# transform combinations_array into dataframe\n",
    "combinations_df = pd.DataFrame(combinations_array, columns=COLUMNS[2:])"
   ]
  },
  {
   "attachments": {},
   "cell_type": "markdown",
   "metadata": {},
   "source": [
    "### Create test dataframes\n",
    "These are used to demonstrate the disparity measurement under different circumstances where the model has `rand` predictions for all patients, `excel` preditions against the broad population, `poor` predicitions across the broad population, `low_pop` which has a limited number of hispanic females represented and performs excelently across the broad population, and finally `bias` where it performs poorly for the hispanic female population."
   ]
  },
  {
   "cell_type": "code",
   "execution_count": 3,
   "metadata": {},
   "outputs": [],
   "source": [
    "import random\n",
    "\n",
    "# Makes a data frame with gender, ethnicity, and labels\n",
    "def makeDataFrame(predictions):\n",
    "    df = pd.DataFrame()\n",
    "    df['Model Prediction'] = predictions\n",
    "    # add column to dataframe where the binary outcome is 1 if the model prediction is greater than 0.5\n",
    "    df['Binary Outcome'] = df['Model Prediction'].apply(lambda x: 1 if x > 0.5 else 0)\n",
    "    # add all columns of the combinations_df to dataframe df\n",
    "    df = pd.concat([df, combinations_df], axis=1)\n",
    "    return df\n",
    "\n",
    "# create random outcome predictions poor/neutral/excel\n",
    "pred_poor = [random.randrange(0,70) / 100. for i in range(total_combinations)]\n",
    "df_poor = makeDataFrame(pred_poor)\n",
    "\n",
    "pred_rand = [random.random() for i in range(total_combinations)]\n",
    "df_rand = makeDataFrame(pred_rand)\n",
    "\n",
    "pred_excel = [random.randrange(30,100) / 100. for i in range(total_combinations)]\n",
    "df_excel = makeDataFrame(pred_excel)\n",
    "\n",
    "\n",
    "df_bias = makeDataFrame(pred_excel)\n",
    "female = df_bias.loc[(df_bias['Demo Gender'] == 'female')]\n",
    "for row in female.index:\n",
    "    df_bias.loc[row,\"Model Prediction\"] = random.randrange(0,90)/100.\n",
    "\n",
    "hisp_female = df_bias.loc[(df_bias['Demo Ethnicity'] == 'hispanic') & (df_bias['Demo Gender'] == 'female')]\n",
    "for row in hisp_female.index:\n",
    "    df_bias.loc[row,\"Model Prediction\"] = random.randrange(0,70)/100.\n",
    "\n",
    "asian_female = df_bias.loc[(df_bias['Demo Ethnicity'] == 'asian') & (df_bias['Demo Gender'] == 'female')]\n",
    "for row in asian_female.index:\n",
    "    df_bias.loc[row,\"Model Prediction\"] = random.randrange(30,100)/100.\n",
    "\n",
    "df_bias['Binary Outcome'] = df_bias['Model Prediction'].apply(lambda x: 1 if x > 0.5 else 0)\n",
    "#TODO: low_pop\n",
    "\n",
    "# write dataframes to file in folder sample_data from current path\n",
    "df_poor.to_csv('./sample_data/measure_disparity_input_poor.csv', index=False)\n",
    "df_excel.to_csv('./sample_data/measure_disparity_input_excel.csv', index=False)\n",
    "df_rand.to_csv('./sample_data/measure_disparity_input_rand.csv', index=False)\n",
    "df_bias.to_csv('./sample_data/measure_disparity_input_bias.csv', index=False)"
   ]
  },
  {
   "attachments": {},
   "cell_type": "markdown",
   "metadata": {},
   "source": [
    "we can see that without knowing the true population the bias disparity measurement performs similar to the t is also excellent even though the model is less likely to perform well on the underrepresented population (in this case hispanic females)"
   ]
  },
  {
   "cell_type": "code",
   "execution_count": 12,
   "metadata": {},
   "outputs": [
    {
     "data": {
      "image/png": "[encoded data removed]",
      "text/plain": [
       "<Figure size 432x288 with 1 Axes>"
      ]
     },
     "metadata": {
      "needs_background": "light"
     },
     "output_type": "display_data"
    }
   ],
   "source": [
    "import numpy as np\n",
    "import matplotlib\n",
    "import matplotlib as mpl\n",
    "import matplotlib.pyplot as plt\n",
    "\n",
    "percent_favorable = df_bias['Binary Outcome'].mean()\n",
    "# create an array of the mean of the binary outcome for each Gender and Ethnicity combination\n",
    "gender_ethnicity_percent_favorable = []\n",
    "for gender in GENDER:\n",
    "    gender_row = []\n",
    "    for ethnicity in ETHNICITY:\n",
    "        df_demo = df_bias.loc[(df_bias['Demo Gender'] == gender) & (df_bias['Demo Ethnicity'] == ethnicity)]\n",
    "        gender_row.append(df_demo['Binary Outcome'].mean())\n",
    "    gender_ethnicity_percent_favorable.append(gender_row)\n",
    "\n",
    "gender_ethnicity_percent_favorable = np.round(np.array(gender_ethnicity_percent_favorable),3)\n",
    "\n",
    "\n",
    "# Plot the heatmap\n",
    "fig, ax = plt.subplots()\n",
    "im = ax.imshow(gender_ethnicity_percent_favorable)\n",
    "\n",
    "# Show all ticks and label them with the respective list entries\n",
    "ax.set_xticks(np.arange(len(ETHNICITY)), labels=ETHNICITY)\n",
    "ax.set_yticks(np.arange(len(GENDER)), labels=GENDER)\n",
    "\n",
    "# Rotate the tick labels and set their alignment.\n",
    "plt.setp(ax.get_xticklabels(), rotation=45, ha=\"right\",\n",
    "         rotation_mode=\"anchor\")\n",
    "\n",
    "plt.rcParams['image.cmap'] = 'RdBu'\n",
    "\n",
    "# Loop over data dimensions and create text annotations.\n",
    "for i in range(len(GENDER)):\n",
    "    for j in range(len(ETHNICITY)):\n",
    "        text = ax.text(j, i, gender_ethnicity_percent_favorable[i, j],\n",
    "                       ha=\"center\", va=\"center\", color=\"w\")\n",
    "\n",
    "ax.set_title(\"Percent favorable for gender and ethnicity\")\n",
    "fig.tight_layout()\n",
    "plt.show()"
   ]
  },
  {
   "cell_type": "code",
   "execution_count": 13,
   "metadata": {},
   "outputs": [
    {
     "data": {
      "image/png": "[encoded data removed]",
      "text/plain": [
       "<Figure size 432x288 with 1 Axes>"
      ]
     },
     "metadata": {
      "needs_background": "light"
     },
     "output_type": "display_data"
    }
   ],
   "source": [
    "# gender plot\n",
    "gender_percent_favorable = np.round(np.mean(np.array(gender_ethnicity_percent_favorable), axis=1),3)\n",
    "gender_percent_favorable = np.resize(gender_percent_favorable, (2,1))\n",
    "\n",
    "# Plot the heatmap\n",
    "fig, ax = plt.subplots()\n",
    "im = ax.imshow(gender_percent_favorable)\n",
    "\n",
    "# Show all ticks and label them with the respective list entries\n",
    "ax.set_yticks(np.arange(len(GENDER)), labels=GENDER)\n",
    "\n",
    "# Rotate the tick labels and set their alignment.\n",
    "plt.setp(ax.get_xticklabels(), rotation=45, ha=\"right\",\n",
    "         rotation_mode=\"anchor\")\n",
    "plt.rcParams['image.cmap'] = 'RdBu'\n",
    "\n",
    "\n",
    "# Loop over data dimensions and create text annotations.\n",
    "for i in range(len(GENDER)):\n",
    "    for j in [0]:\n",
    "        text = ax.text(j, i, gender_percent_favorable[i, j],\n",
    "                       ha=\"center\", va=\"center\", color=\"w\")\n",
    "\n",
    "ax.set_title(\"Percent favorable for gender\")\n",
    "fig.tight_layout()\n",
    "plt.show()"
   ]
  },
  {
   "cell_type": "code",
   "execution_count": 14,
   "metadata": {},
   "outputs": [
    {
     "data": {
      "image/png": "[encoded data removed]",
      "text/plain": [
       "<Figure size 432x288 with 1 Axes>"
      ]
     },
     "metadata": {
      "needs_background": "light"
     },
     "output_type": "display_data"
    }
   ],
   "source": [
    "# ethnicity plot\n",
    "ethnicity_percent_favorable = np.round(np.mean(np.array(gender_ethnicity_percent_favorable), axis=0),3)\n",
    "ethnicity_percent_favorable = np.resize(ethnicity_percent_favorable, (1, len(ETHNICITY)))\n",
    "\n",
    "# Plot the heatmap\n",
    "fig, ax = plt.subplots()\n",
    "im = ax.imshow(ethnicity_percent_favorable)\n",
    "\n",
    "# Show all ticks and label them with the respective list entries\n",
    "ax.set_xticks(np.arange(len(ETHNICITY)), labels=ETHNICITY)\n",
    "\n",
    "# Rotate the tick labels and set their alignment.\n",
    "plt.setp(ax.get_xticklabels(), rotation=45, ha=\"right\",\n",
    "         rotation_mode=\"anchor\")\n",
    "plt.rcParams['image.cmap'] = 'RdBu'\n",
    "\n",
    "\n",
    "# Loop over data dimensions and create text annotations.\n",
    "for i in [0]:\n",
    "    for j in range(len(ETHNICITY)):\n",
    "        text = ax.text(j, i, ethnicity_percent_favorable[i, j],\n",
    "                       ha=\"center\", va=\"center\", color=\"w\")\n",
    "\n",
    "ax.set_title(\"Percent favorable for Ethnicity\")\n",
    "fig.tight_layout()\n",
    "plt.show()"
   ]
  },
  {
   "cell_type": "code",
   "execution_count": null,
   "metadata": {
    "collapsed": false
   },
   "outputs": [],
   "source": [
    "# ethnicity plot\n",
    "ethnicity_perent_favorable = np.round(np.mean(np.array(gender_ethnicity_perent_favorable), axis=0),3)\n",
    "ethnicity_perent_favorable = np.resize(ethnicity_perent_favorable, (1, len(ETHNICITY)))\n",
    "\n",
    "# Plot the heatmap\n",
    "fig, ax = plt.subplots()\n",
    "im = ax.imshow(ethnicity_perent_favorable)\n",
    "\n",
    "# Show all ticks and label them with the respective list entries\n",
    "ax.set_xticks(np.arange(len(ETHNICITY)), labels=ETHNICITY)\n",
    "\n",
    "# Rotate the tick labels and set their alignment.\n",
    "plt.setp(ax.get_xticklabels(), rotation=45, ha=\"right\",\n",
    "         rotation_mode=\"anchor\")\n",
    "\n",
    "# Loop over data dimensions and create text annotations.\n",
    "for i in [0]:\n",
    "    for j in range(len(ETHNICITY)):\n",
    "        text = ax.text(j, i, ethnicity_perent_favorable[i, j],\n",
    "                       ha=\"center\", va=\"center\", color=\"w\")\n",
    "\n",
    "ax.set_title(\"Percent favorable for Ethnicity\")\n",
    "fig.tight_layout()\n",
    "plt.show()"
   ]
  },
  {
   "attachments": {},
   "cell_type": "markdown",
   "metadata": {},
   "source": [
    "### Single score for the model\n",
    "Percent (ratio) of positive outcomes for the privileged group (white, male) vs the rest of the population as the `disparate impact ratio`. In this case, the disparate impact ratio we use compares the percentage of favorable outcomes for the protected classes (all non-white-males) to the percentage of favorable outcomes for the non protected class (white, male). Ideally the ratio equals 1 for an unbiased model. A ratio higher than 1 performs worse on the non-protected classes and a ratio lower than 1 is traditionally biased favoring positive outcomes for the non-protected class."
   ]
  },
  {
   "cell_type": "code",
   "execution_count": null,
   "metadata": {},
   "outputs": [],
   "source": [
    "white_male = df_bias.loc[(df_bias['Demo Ethnicity'] == 'white') & (df_bias['Demo Gender'] == 'male')]\n",
    "# get all indexes not in dataframe df_bias that are not in dataframe white_male\n",
    "non_white_male = df_bias[~df_bias.index.isin(white_male.index)]\n",
    "\n",
    "prev_fav = np.mean(white_male['Binary Outcome'])\n",
    "protected_fav = np.mean(non_white_male['Binary Outcome'])\n",
    "\n",
    "disparate_impact_ratio = protected_fav / prev_fav"
   ]
  }
 ],
 "metadata": {
  "kernelspec": {
   "display_name": "Python 3",
   "language": "python",
   "name": "python3"
  },
  "language_info": {
   "name": "python",
   "version": "3.5.4 (v3.5.4:3f56838976, Aug  7 2017, 12:56:33) \n[GCC 4.2.1 (Apple Inc. build 5666) (dot 3)]"
  },
  "orig_nbformat": 4,
  "vscode": {
   "interpreter": {
    "hash": "0be0938be6b90188cfcadaee5cfa136cbf4cd1f17e2ba8c4c1b600aef81eccfe"
   }
  }
 },
 "nbformat": 4,
 "nbformat_minor": 2
}
